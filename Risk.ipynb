{
 "cells": [
  {
   "cell_type": "code",
   "execution_count": 1,
   "metadata": {},
   "outputs": [
    {
     "name": "stdout",
     "output_type": "stream",
     "text": [
      "Enter number of attackers: 3\n",
      "Enter number of defenders: 2\n",
      "How many attackers are you willing to lose? 1\n",
      "Attacker rolled [2, 1, 1]\n",
      "Defender rolled [2, 1]\n",
      "Lost 2 attackers\n",
      "Lost 0 defenders\n",
      "Attacker remaining: 1\n",
      "Defenders remainining: 2\n",
      "Attacker rolled [2]\n",
      "Defender rolled [6, 4]\n",
      "Lost 1 attackers\n",
      "Lost 0 defenders\n",
      "Attacker remaining: 0\n",
      "Defenders remainining: 2\n"
     ]
    }
   ],
   "source": [
    "from random import randint\n",
    "\n",
    "a  = int(input(\"Enter number of attackers: \"))\n",
    "b  = int(input(\"Enter number of defenders: \"))\n",
    "c = int(input(\"How many attackers are you willing to lose? \"))\n",
    "\n",
    "\n",
    "Attacker_Rolls = a if (a < 4) and (a > 0) else 3\n",
    "Defender_Rolls = b if (b < 3) and (b > 0) else 2\n",
    "c = c if c < a else 3\n",
    "\n",
    "\n",
    "while Attacker_Rolls > 0 and Defender_Rolls > 0 and c > 0 :\n",
    "    \n",
    "   \n",
    "    Attacker_Rolls = Attacker_Rolls\n",
    "    Defender_Rolls = Defender_Rolls\n",
    "   \n",
    "    \n",
    "\n",
    "    num_of_attackers = [randint(1, 6) for i in range(Attacker_Rolls)]\n",
    "    num_of_attackers.sort(reverse=True)\n",
    "    print(f\"Attacker rolled {num_of_attackers}\")\n",
    "        \n",
    "              \n",
    "    num_of_defenders = [randint(1,6) for i in range(Defender_Rolls)]\n",
    "    num_of_defenders.sort(reverse=True)\n",
    "    print(f\"Defender rolled {num_of_defenders}\")\n",
    "\n",
    "    Attacking_Units_Lost = 0\n",
    "    Defending_Units_Lost = 0\n",
    "        \n",
    "        \n",
    "    for atk, dfn in zip(num_of_attackers, num_of_defenders):\n",
    "        \n",
    "           \n",
    "        if atk <= dfn:\n",
    "            Attacking_Units_Lost += 1\n",
    "        else:\n",
    "            Defending_Units_Lost += 1\n",
    "    if Attacking_Units_Lost == c:\n",
    "        print(\"The game has ended because the attacker has lost too many units.\")\n",
    "        break\n",
    "    else:\n",
    "        print(f\"Lost {Attacking_Units_Lost} attackers\")\n",
    "        print(f\"Lost {Defending_Units_Lost} defenders\")\n",
    "        \n",
    "    Attacker_Rolls = Attacker_Rolls - Attacking_Units_Lost\n",
    "    Defender_Rolls = Defender_Rolls - Defending_Units_Lost\n",
    "    c = Attacking_Units_Lost\n",
    "    print(f\"Attacker remaining: {Attacker_Rolls}\")\n",
    "    print(f\"Defenders remainining: {Defender_Rolls}\")\n",
    "        \n",
    "        \n",
    "\n",
    "\n",
    "       "
   ]
  },
  {
   "cell_type": "markdown",
   "metadata": {},
   "source": [
    "## "
   ]
  },
  {
   "cell_type": "code",
   "execution_count": null,
   "metadata": {},
   "outputs": [],
   "source": []
  }
 ],
 "metadata": {
  "kernelspec": {
   "display_name": "Python 3",
   "language": "python",
   "name": "python3"
  },
  "language_info": {
   "codemirror_mode": {
    "name": "ipython",
    "version": 3
   },
   "file_extension": ".py",
   "mimetype": "text/x-python",
   "name": "python",
   "nbconvert_exporter": "python",
   "pygments_lexer": "ipython3",
   "version": "3.8.8"
  }
 },
 "nbformat": 4,
 "nbformat_minor": 2
}
